{
 "cells": [
  {
   "cell_type": "markdown",
   "id": "b53422ad-26f4-400c-a80b-4d400d284a8f",
   "metadata": {},
   "source": [
    "# System Test\n",
    "## Jaclyn Bell\n",
    "### 8/24/2025\n",
    "In this class I would like to learn more about:\n",
    "1. Python\n",
    "2. API's\n",
    "3. Accessing and Analyzing Data\n",
    "- I am a senior EMAT major with a minor in Web Development and Design </br>  **I am *excited* to take this class!**\n",
    "\n",
    "![puppies](https://wallpaper.dog/large/10770096.jpg)  "
   ]
  },
  {
   "cell_type": "code",
   "execution_count": null,
   "id": "0abc91ac-090c-45e7-987e-39cbaa9344a5",
   "metadata": {},
   "outputs": [],
   "source": []
  }
 ],
 "metadata": {
  "kernelspec": {
   "display_name": "Python [conda env:base] *",
   "language": "python",
   "name": "conda-base-py"
  },
  "language_info": {
   "codemirror_mode": {
    "name": "ipython",
    "version": 3
   },
   "file_extension": ".py",
   "mimetype": "text/x-python",
   "name": "python",
   "nbconvert_exporter": "python",
   "pygments_lexer": "ipython3",
   "version": "3.13.5"
  }
 },
 "nbformat": 4,
 "nbformat_minor": 5
}
