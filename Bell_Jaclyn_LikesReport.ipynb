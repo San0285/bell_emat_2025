{
 "cells": [
  {
   "cell_type": "markdown",
   "id": "518770b6-5ca8-4115-98ae-f87505af7034",
   "metadata": {},
   "source": [
    "# Likes Report\n",
    "Jaclyn Bell </br>\n",
    "9/14/2025"
   ]
  },
  {
   "cell_type": "markdown",
   "id": "332e13a0-10f0-4db3-bc2f-ac1f4b4db89f",
   "metadata": {},
   "source": [
    "## Questions:\n",
    "### Who or what is the source of your personal Instagram data? \n",
    "The sources of my personal instagram data comes mainly from liking or sharing posts. Other sources would be the things I have uploaded to the app such as photos, reels, and stories. My data also comes from sending messages or commenting on others posts. </br>\n",
    "### Why was this data created and what purposes can the data serve? \n",
    "I think the data is used for a lot of reasons, for example in advertising, they can use my data to target me with ads that might spark my interset, and keep track of what I click on or buy. Or it could help them train AI algorithims so the app would suggest content to me that would increase my engagement in the app, sometimes keeping me scrolling for way too long. :) </br>\n",
    "### In what ways may this data be reliable? \n",
    "The data that would be reliable would be your login information such as user name and password, or your personal phone number or email, used as sercurity for logging in or recovering your account. It could also be you behavior on the app such as the way you interact with it, through likes, and comments. </br>\n",
    "### In what ways may this data be unreliable?\n",
    "I think a lot of people lie in their personal information, such as names, or birthdays. Or they make burner accounts or accounts to impersonate others. And another thing that I do a lot if scroll mindlessly without actually reacting, even though I might really like what Im seeing, sometimes I just go so fast that I don't take that second to like or save the post. so this could have an effect on my data being collected. "
   ]
  },
  {
   "cell_type": "code",
   "execution_count": 26,
   "id": "8f371264-738e-4658-8e36-9cce3171fb31",
   "metadata": {},
   "outputs": [],
   "source": [
    "import json\n",
    "import pandas as pd\n",
    "\n",
    "from datetime import datetime\n",
    "\n",
    "from scipy.stats import chisquare\n",
    "\n",
    "import matplotlib.pyplot as plt"
   ]
  },
  {
   "cell_type": "code",
   "execution_count": 29,
   "id": "e1e029fb-e984-45a4-8bd8-e312958576ac",
   "metadata": {},
   "outputs": [],
   "source": [
    "path = r\"C:\\Users\\jacki\\Data in EMAT\\DATA INSTAGRAM\\your_instagram_activity\\likes\\liked_posts.json\""
   ]
  },
  {
   "cell_type": "code",
   "execution_count": 30,
   "id": "a791445b-9815-465d-87f2-d23709eb1c00",
   "metadata": {},
   "outputs": [],
   "source": [
    "liked_posts_df = pd.DataFrame(data[\"likes_media_likes\"])"
   ]
  },
  {
   "cell_type": "code",
   "execution_count": 31,
   "id": "c4842b8b-7139-446f-9bef-e75df76ea459",
   "metadata": {},
   "outputs": [
    {
     "data": {
      "text/html": [
       "<div>\n",
       "<style scoped>\n",
       "    .dataframe tbody tr th:only-of-type {\n",
       "        vertical-align: middle;\n",
       "    }\n",
       "\n",
       "    .dataframe tbody tr th {\n",
       "        vertical-align: top;\n",
       "    }\n",
       "\n",
       "    .dataframe thead th {\n",
       "        text-align: right;\n",
       "    }\n",
       "</style>\n",
       "<table border=\"1\" class=\"dataframe\">\n",
       "  <thead>\n",
       "    <tr style=\"text-align: right;\">\n",
       "      <th></th>\n",
       "      <th>title</th>\n",
       "      <th>string_list_data</th>\n",
       "    </tr>\n",
       "  </thead>\n",
       "  <tbody>\n",
       "    <tr>\n",
       "      <th>0</th>\n",
       "      <td>lvmandm9onprime</td>\n",
       "      <td>[{'href': 'https://www.instagram.com/reel/DNoM...</td>\n",
       "    </tr>\n",
       "    <tr>\n",
       "      <th>1</th>\n",
       "      <td>jenbutlersays</td>\n",
       "      <td>[{'href': 'https://www.instagram.com/reel/DNjl...</td>\n",
       "    </tr>\n",
       "    <tr>\n",
       "      <th>2</th>\n",
       "      <td>yoursupermindset</td>\n",
       "      <td>[{'href': 'https://www.instagram.com/reel/DNdZ...</td>\n",
       "    </tr>\n",
       "    <tr>\n",
       "      <th>3</th>\n",
       "      <td>boardgame_buzzz</td>\n",
       "      <td>[{'href': 'https://www.instagram.com/reel/DNs-...</td>\n",
       "    </tr>\n",
       "    <tr>\n",
       "      <th>4</th>\n",
       "      <td>jessicaevedesu</td>\n",
       "      <td>[{'href': 'https://www.instagram.com/reel/DNtS...</td>\n",
       "    </tr>\n",
       "  </tbody>\n",
       "</table>\n",
       "</div>"
      ],
      "text/plain": [
       "              title                                   string_list_data\n",
       "0   lvmandm9onprime  [{'href': 'https://www.instagram.com/reel/DNoM...\n",
       "1     jenbutlersays  [{'href': 'https://www.instagram.com/reel/DNjl...\n",
       "2  yoursupermindset  [{'href': 'https://www.instagram.com/reel/DNdZ...\n",
       "3   boardgame_buzzz  [{'href': 'https://www.instagram.com/reel/DNs-...\n",
       "4    jessicaevedesu  [{'href': 'https://www.instagram.com/reel/DNtS..."
      ]
     },
     "execution_count": 31,
     "metadata": {},
     "output_type": "execute_result"
    }
   ],
   "source": [
    "liked_posts_df.head()"
   ]
  },
  {
   "cell_type": "code",
   "execution_count": 32,
   "id": "f5fa2416-d520-4365-b88e-6e44a5860692",
   "metadata": {},
   "outputs": [],
   "source": [
    "liked_posts_df[\"timestamp\"] = liked_posts_df[\"string_list_data\"].str[0].str[\"timestamp\"]"
   ]
  },
  {
   "cell_type": "code",
   "execution_count": 39,
   "id": "2e817415-10b5-4863-9ba2-4196aac7d70d",
   "metadata": {},
   "outputs": [
    {
     "data": {
      "text/html": [
       "<div>\n",
       "<style scoped>\n",
       "    .dataframe tbody tr th:only-of-type {\n",
       "        vertical-align: middle;\n",
       "    }\n",
       "\n",
       "    .dataframe tbody tr th {\n",
       "        vertical-align: top;\n",
       "    }\n",
       "\n",
       "    .dataframe thead th {\n",
       "        text-align: right;\n",
       "    }\n",
       "</style>\n",
       "<table border=\"1\" class=\"dataframe\">\n",
       "  <thead>\n",
       "    <tr style=\"text-align: right;\">\n",
       "      <th></th>\n",
       "      <th>title</th>\n",
       "      <th>string_list_data</th>\n",
       "      <th>timestamp</th>\n",
       "      <th>account</th>\n",
       "    </tr>\n",
       "  </thead>\n",
       "  <tbody>\n",
       "    <tr>\n",
       "      <th>0</th>\n",
       "      <td>lvmandm9onprime</td>\n",
       "      <td>[{'href': 'https://www.instagram.com/reel/DNoM...</td>\n",
       "      <td>1756112472</td>\n",
       "      <td>ð</td>\n",
       "    </tr>\n",
       "    <tr>\n",
       "      <th>1</th>\n",
       "      <td>jenbutlersays</td>\n",
       "      <td>[{'href': 'https://www.instagram.com/reel/DNjl...</td>\n",
       "      <td>1756089292</td>\n",
       "      <td>ð</td>\n",
       "    </tr>\n",
       "    <tr>\n",
       "      <th>2</th>\n",
       "      <td>yoursupermindset</td>\n",
       "      <td>[{'href': 'https://www.instagram.com/reel/DNdZ...</td>\n",
       "      <td>1756088971</td>\n",
       "      <td>ð</td>\n",
       "    </tr>\n",
       "    <tr>\n",
       "      <th>3</th>\n",
       "      <td>boardgame_buzzz</td>\n",
       "      <td>[{'href': 'https://www.instagram.com/reel/DNs-...</td>\n",
       "      <td>1756075247</td>\n",
       "      <td>ð</td>\n",
       "    </tr>\n",
       "    <tr>\n",
       "      <th>4</th>\n",
       "      <td>jessicaevedesu</td>\n",
       "      <td>[{'href': 'https://www.instagram.com/reel/DNtS...</td>\n",
       "      <td>1756075213</td>\n",
       "      <td>ð</td>\n",
       "    </tr>\n",
       "    <tr>\n",
       "      <th>5</th>\n",
       "      <td>laura.henshaw</td>\n",
       "      <td>[{'href': 'https://www.instagram.com/reel/DK_q...</td>\n",
       "      <td>1756075122</td>\n",
       "      <td>ð</td>\n",
       "    </tr>\n",
       "    <tr>\n",
       "      <th>6</th>\n",
       "      <td>gangabala19</td>\n",
       "      <td>[{'href': 'https://www.instagram.com/reel/DNYV...</td>\n",
       "      <td>1756048222</td>\n",
       "      <td>ð</td>\n",
       "    </tr>\n",
       "    <tr>\n",
       "      <th>7</th>\n",
       "      <td>tokyo_thebear</td>\n",
       "      <td>[{'href': 'https://www.instagram.com/reel/DHyk...</td>\n",
       "      <td>1756048174</td>\n",
       "      <td>ð</td>\n",
       "    </tr>\n",
       "    <tr>\n",
       "      <th>8</th>\n",
       "      <td>zero.sleeps</td>\n",
       "      <td>[{'href': 'https://www.instagram.com/reel/DNtb...</td>\n",
       "      <td>1756048047</td>\n",
       "      <td>ð</td>\n",
       "    </tr>\n",
       "    <tr>\n",
       "      <th>9</th>\n",
       "      <td>fireandiceoutdoors</td>\n",
       "      <td>[{'href': 'https://www.instagram.com/reel/DNsY...</td>\n",
       "      <td>1756048001</td>\n",
       "      <td>ð</td>\n",
       "    </tr>\n",
       "  </tbody>\n",
       "</table>\n",
       "</div>"
      ],
      "text/plain": [
       "                title                                   string_list_data  \\\n",
       "0     lvmandm9onprime  [{'href': 'https://www.instagram.com/reel/DNoM...   \n",
       "1       jenbutlersays  [{'href': 'https://www.instagram.com/reel/DNjl...   \n",
       "2    yoursupermindset  [{'href': 'https://www.instagram.com/reel/DNdZ...   \n",
       "3     boardgame_buzzz  [{'href': 'https://www.instagram.com/reel/DNs-...   \n",
       "4      jessicaevedesu  [{'href': 'https://www.instagram.com/reel/DNtS...   \n",
       "5       laura.henshaw  [{'href': 'https://www.instagram.com/reel/DK_q...   \n",
       "6         gangabala19  [{'href': 'https://www.instagram.com/reel/DNYV...   \n",
       "7       tokyo_thebear  [{'href': 'https://www.instagram.com/reel/DHyk...   \n",
       "8         zero.sleeps  [{'href': 'https://www.instagram.com/reel/DNtb...   \n",
       "9  fireandiceoutdoors  [{'href': 'https://www.instagram.com/reel/DNsY...   \n",
       "\n",
       "    timestamp account  \n",
       "0  1756112472    ð  \n",
       "1  1756089292    ð  \n",
       "2  1756088971    ð  \n",
       "3  1756075247    ð  \n",
       "4  1756075213    ð  \n",
       "5  1756075122    ð  \n",
       "6  1756048222    ð  \n",
       "7  1756048174    ð  \n",
       "8  1756048047    ð  \n",
       "9  1756048001    ð  "
      ]
     },
     "execution_count": 39,
     "metadata": {},
     "output_type": "execute_result"
    }
   ],
   "source": [
    "liked_posts_df.head(10)"
   ]
  },
  {
   "cell_type": "code",
   "execution_count": 54,
   "id": "6b9ff2b6-91f8-4e44-977f-cf50c4b806dc",
   "metadata": {},
   "outputs": [],
   "source": [
    "liked_posts_df[\"account\"] = liked_posts_df[\"string_list_data\"].str[0].str[\"value\"]"
   ]
  },
  {
   "cell_type": "code",
   "execution_count": 55,
   "id": "0b2204d4-4920-4e95-828c-2c6abcfdd1fa",
   "metadata": {},
   "outputs": [],
   "source": [
    "likes_by_account = liked_posts_df.groupby(\"account\")[\"timestamp\"].count().reset_index()"
   ]
  },
  {
   "cell_type": "code",
   "execution_count": 56,
   "id": "eccbfe81-26b9-4d43-b513-4effb55d4724",
   "metadata": {},
   "outputs": [],
   "source": [
    "likes_by_account = likes_by_account.rename(columns={\"timestamp\": \"like_count\"})"
   ]
  },
  {
   "cell_type": "code",
   "execution_count": 57,
   "id": "2d32ce0a-cec4-4426-9a81-643e26c81495",
   "metadata": {},
   "outputs": [],
   "source": [
    "likes_by_account = likes_by_account.sort_values(\"like_count\", ascending=False)"
   ]
  },
  {
   "cell_type": "code",
   "execution_count": 59,
   "id": "edc97e7b-4992-4e35-ae24-908e97c0a2b3",
   "metadata": {},
   "outputs": [
    {
     "data": {
      "text/html": [
       "<div>\n",
       "<style scoped>\n",
       "    .dataframe tbody tr th:only-of-type {\n",
       "        vertical-align: middle;\n",
       "    }\n",
       "\n",
       "    .dataframe tbody tr th {\n",
       "        vertical-align: top;\n",
       "    }\n",
       "\n",
       "    .dataframe thead th {\n",
       "        text-align: right;\n",
       "    }\n",
       "</style>\n",
       "<table border=\"1\" class=\"dataframe\">\n",
       "  <thead>\n",
       "    <tr style=\"text-align: right;\">\n",
       "      <th></th>\n",
       "      <th>account</th>\n",
       "      <th>like_count</th>\n",
       "    </tr>\n",
       "  </thead>\n",
       "  <tbody>\n",
       "    <tr>\n",
       "      <th>0</th>\n",
       "      <td>ð</td>\n",
       "      <td>23655</td>\n",
       "    </tr>\n",
       "  </tbody>\n",
       "</table>\n",
       "</div>"
      ],
      "text/plain": [
       "  account  like_count\n",
       "0    ð       23655"
      ]
     },
     "execution_count": 59,
     "metadata": {},
     "output_type": "execute_result"
    }
   ],
   "source": [
    "likes_by_account.head()"
   ]
  },
  {
   "cell_type": "markdown",
   "id": "6429d565-5f7c-4613-8d51-75b41d6a89df",
   "metadata": {},
   "source": [
    "### Hypothesis\n",
    "I tend to scroll through Instagram and like posts more in the evening compared to the morning. "
   ]
  },
  {
   "cell_type": "code",
   "execution_count": 61,
   "id": "5ab83423-079b-4d79-802a-396cf68e9770",
   "metadata": {},
   "outputs": [],
   "source": [
    "liked_posts_df = pd.DataFrame(data[\"likes_media_likes\"])"
   ]
  },
  {
   "cell_type": "code",
   "execution_count": 62,
   "id": "25f4536f-debf-4b18-a632-add0598e3687",
   "metadata": {},
   "outputs": [],
   "source": [
    "liked_posts_df = liked_posts_df.join(\n",
    "    pd.json_normalize(liked_posts_df[\"string_list_data\"].str[0])\n",
    ").drop(columns=[\"string_list_data\"])"
   ]
  },
  {
   "cell_type": "code",
   "execution_count": 63,
   "id": "5ed281f4-0461-4495-af0d-96442fab3979",
   "metadata": {},
   "outputs": [],
   "source": [
    "liked_posts_df.rename(columns={\"value\": \"account\"}, inplace=True)"
   ]
  },
  {
   "cell_type": "code",
   "execution_count": 64,
   "id": "07eff434-ae1e-42b8-848a-36170e3df118",
   "metadata": {},
   "outputs": [
    {
     "data": {
      "text/html": [
       "<div>\n",
       "<style scoped>\n",
       "    .dataframe tbody tr th:only-of-type {\n",
       "        vertical-align: middle;\n",
       "    }\n",
       "\n",
       "    .dataframe tbody tr th {\n",
       "        vertical-align: top;\n",
       "    }\n",
       "\n",
       "    .dataframe thead th {\n",
       "        text-align: right;\n",
       "    }\n",
       "</style>\n",
       "<table border=\"1\" class=\"dataframe\">\n",
       "  <thead>\n",
       "    <tr style=\"text-align: right;\">\n",
       "      <th></th>\n",
       "      <th>title</th>\n",
       "      <th>href</th>\n",
       "      <th>account</th>\n",
       "      <th>timestamp</th>\n",
       "    </tr>\n",
       "  </thead>\n",
       "  <tbody>\n",
       "    <tr>\n",
       "      <th>0</th>\n",
       "      <td>lvmandm9onprime</td>\n",
       "      <td>https://www.instagram.com/reel/DNoMzVUI5tW/</td>\n",
       "      <td>ð</td>\n",
       "      <td>1756112472</td>\n",
       "    </tr>\n",
       "    <tr>\n",
       "      <th>1</th>\n",
       "      <td>jenbutlersays</td>\n",
       "      <td>https://www.instagram.com/reel/DNjlAMbxiEu/</td>\n",
       "      <td>ð</td>\n",
       "      <td>1756089292</td>\n",
       "    </tr>\n",
       "    <tr>\n",
       "      <th>2</th>\n",
       "      <td>yoursupermindset</td>\n",
       "      <td>https://www.instagram.com/reel/DNdZwu2IhQf/</td>\n",
       "      <td>ð</td>\n",
       "      <td>1756088971</td>\n",
       "    </tr>\n",
       "    <tr>\n",
       "      <th>3</th>\n",
       "      <td>boardgame_buzzz</td>\n",
       "      <td>https://www.instagram.com/reel/DNs-Ax84lVg/</td>\n",
       "      <td>ð</td>\n",
       "      <td>1756075247</td>\n",
       "    </tr>\n",
       "    <tr>\n",
       "      <th>4</th>\n",
       "      <td>jessicaevedesu</td>\n",
       "      <td>https://www.instagram.com/reel/DNtSgCC3jrx/</td>\n",
       "      <td>ð</td>\n",
       "      <td>1756075213</td>\n",
       "    </tr>\n",
       "  </tbody>\n",
       "</table>\n",
       "</div>"
      ],
      "text/plain": [
       "              title                                         href account  \\\n",
       "0   lvmandm9onprime  https://www.instagram.com/reel/DNoMzVUI5tW/    ð   \n",
       "1     jenbutlersays  https://www.instagram.com/reel/DNjlAMbxiEu/    ð   \n",
       "2  yoursupermindset  https://www.instagram.com/reel/DNdZwu2IhQf/    ð   \n",
       "3   boardgame_buzzz  https://www.instagram.com/reel/DNs-Ax84lVg/    ð   \n",
       "4    jessicaevedesu  https://www.instagram.com/reel/DNtSgCC3jrx/    ð   \n",
       "\n",
       "    timestamp  \n",
       "0  1756112472  \n",
       "1  1756089292  \n",
       "2  1756088971  \n",
       "3  1756075247  \n",
       "4  1756075213  "
      ]
     },
     "execution_count": 64,
     "metadata": {},
     "output_type": "execute_result"
    }
   ],
   "source": [
    "liked_posts_df.head()"
   ]
  },
  {
   "cell_type": "code",
   "execution_count": 65,
   "id": "413590b5-bea8-4506-8022-980948993b66",
   "metadata": {},
   "outputs": [],
   "source": [
    "liked_posts_df[\"datetime\"] = pd.to_datetime(liked_posts_df[\"timestamp\"], unit=\"s\")"
   ]
  },
  {
   "cell_type": "code",
   "execution_count": 66,
   "id": "cca08bbe-84a0-461f-99cc-48b5e826f4ad",
   "metadata": {},
   "outputs": [],
   "source": [
    "liked_posts_df[\"hour\"] = liked_posts_df[\"datetime\"].dt.hour"
   ]
  },
  {
   "cell_type": "code",
   "execution_count": 67,
   "id": "6ecff863-c3da-4343-85e5-e9e2a2696882",
   "metadata": {},
   "outputs": [
    {
     "data": {
      "text/html": [
       "<div>\n",
       "<style scoped>\n",
       "    .dataframe tbody tr th:only-of-type {\n",
       "        vertical-align: middle;\n",
       "    }\n",
       "\n",
       "    .dataframe tbody tr th {\n",
       "        vertical-align: top;\n",
       "    }\n",
       "\n",
       "    .dataframe thead th {\n",
       "        text-align: right;\n",
       "    }\n",
       "</style>\n",
       "<table border=\"1\" class=\"dataframe\">\n",
       "  <thead>\n",
       "    <tr style=\"text-align: right;\">\n",
       "      <th></th>\n",
       "      <th>title</th>\n",
       "      <th>href</th>\n",
       "      <th>account</th>\n",
       "      <th>timestamp</th>\n",
       "      <th>datetime</th>\n",
       "      <th>hour</th>\n",
       "    </tr>\n",
       "  </thead>\n",
       "  <tbody>\n",
       "    <tr>\n",
       "      <th>0</th>\n",
       "      <td>lvmandm9onprime</td>\n",
       "      <td>https://www.instagram.com/reel/DNoMzVUI5tW/</td>\n",
       "      <td>ð</td>\n",
       "      <td>1756112472</td>\n",
       "      <td>2025-08-25 09:01:12</td>\n",
       "      <td>9</td>\n",
       "    </tr>\n",
       "    <tr>\n",
       "      <th>1</th>\n",
       "      <td>jenbutlersays</td>\n",
       "      <td>https://www.instagram.com/reel/DNjlAMbxiEu/</td>\n",
       "      <td>ð</td>\n",
       "      <td>1756089292</td>\n",
       "      <td>2025-08-25 02:34:52</td>\n",
       "      <td>2</td>\n",
       "    </tr>\n",
       "    <tr>\n",
       "      <th>2</th>\n",
       "      <td>yoursupermindset</td>\n",
       "      <td>https://www.instagram.com/reel/DNdZwu2IhQf/</td>\n",
       "      <td>ð</td>\n",
       "      <td>1756088971</td>\n",
       "      <td>2025-08-25 02:29:31</td>\n",
       "      <td>2</td>\n",
       "    </tr>\n",
       "    <tr>\n",
       "      <th>3</th>\n",
       "      <td>boardgame_buzzz</td>\n",
       "      <td>https://www.instagram.com/reel/DNs-Ax84lVg/</td>\n",
       "      <td>ð</td>\n",
       "      <td>1756075247</td>\n",
       "      <td>2025-08-24 22:40:47</td>\n",
       "      <td>22</td>\n",
       "    </tr>\n",
       "    <tr>\n",
       "      <th>4</th>\n",
       "      <td>jessicaevedesu</td>\n",
       "      <td>https://www.instagram.com/reel/DNtSgCC3jrx/</td>\n",
       "      <td>ð</td>\n",
       "      <td>1756075213</td>\n",
       "      <td>2025-08-24 22:40:13</td>\n",
       "      <td>22</td>\n",
       "    </tr>\n",
       "  </tbody>\n",
       "</table>\n",
       "</div>"
      ],
      "text/plain": [
       "              title                                         href account  \\\n",
       "0   lvmandm9onprime  https://www.instagram.com/reel/DNoMzVUI5tW/    ð   \n",
       "1     jenbutlersays  https://www.instagram.com/reel/DNjlAMbxiEu/    ð   \n",
       "2  yoursupermindset  https://www.instagram.com/reel/DNdZwu2IhQf/    ð   \n",
       "3   boardgame_buzzz  https://www.instagram.com/reel/DNs-Ax84lVg/    ð   \n",
       "4    jessicaevedesu  https://www.instagram.com/reel/DNtSgCC3jrx/    ð   \n",
       "\n",
       "    timestamp            datetime  hour  \n",
       "0  1756112472 2025-08-25 09:01:12     9  \n",
       "1  1756089292 2025-08-25 02:34:52     2  \n",
       "2  1756088971 2025-08-25 02:29:31     2  \n",
       "3  1756075247 2025-08-24 22:40:47    22  \n",
       "4  1756075213 2025-08-24 22:40:13    22  "
      ]
     },
     "execution_count": 67,
     "metadata": {},
     "output_type": "execute_result"
    }
   ],
   "source": [
    "liked_posts_df.head()"
   ]
  },
  {
   "cell_type": "code",
   "execution_count": 68,
   "id": "834e71de-8021-42c9-8a05-ee40c934f873",
   "metadata": {},
   "outputs": [],
   "source": [
    "def time_of_day(hour):\n",
    "    if 6 <= hour < 12:\n",
    "        return \"morning\"\n",
    "    elif 18 <= hour < 24:\n",
    "        return \"evening\"\n",
    "    else:\n",
    "        return \"other\""
   ]
  },
  {
   "cell_type": "code",
   "execution_count": 69,
   "id": "4eb60d04-b5a0-4908-ba82-efc6b387aa1e",
   "metadata": {},
   "outputs": [],
   "source": [
    "liked_posts_df[\"time_of_day\"] = liked_posts_df[\"hour\"].apply(time_of_day)"
   ]
  },
  {
   "cell_type": "code",
   "execution_count": 70,
   "id": "8e19c37a-c2e1-4f5e-92d1-8ae2dd5e848b",
   "metadata": {},
   "outputs": [
    {
     "data": {
      "text/html": [
       "<div>\n",
       "<style scoped>\n",
       "    .dataframe tbody tr th:only-of-type {\n",
       "        vertical-align: middle;\n",
       "    }\n",
       "\n",
       "    .dataframe tbody tr th {\n",
       "        vertical-align: top;\n",
       "    }\n",
       "\n",
       "    .dataframe thead th {\n",
       "        text-align: right;\n",
       "    }\n",
       "</style>\n",
       "<table border=\"1\" class=\"dataframe\">\n",
       "  <thead>\n",
       "    <tr style=\"text-align: right;\">\n",
       "      <th></th>\n",
       "      <th>title</th>\n",
       "      <th>href</th>\n",
       "      <th>account</th>\n",
       "      <th>timestamp</th>\n",
       "      <th>datetime</th>\n",
       "      <th>hour</th>\n",
       "      <th>time_of_day</th>\n",
       "    </tr>\n",
       "  </thead>\n",
       "  <tbody>\n",
       "    <tr>\n",
       "      <th>0</th>\n",
       "      <td>lvmandm9onprime</td>\n",
       "      <td>https://www.instagram.com/reel/DNoMzVUI5tW/</td>\n",
       "      <td>ð</td>\n",
       "      <td>1756112472</td>\n",
       "      <td>2025-08-25 09:01:12</td>\n",
       "      <td>9</td>\n",
       "      <td>morning</td>\n",
       "    </tr>\n",
       "    <tr>\n",
       "      <th>1</th>\n",
       "      <td>jenbutlersays</td>\n",
       "      <td>https://www.instagram.com/reel/DNjlAMbxiEu/</td>\n",
       "      <td>ð</td>\n",
       "      <td>1756089292</td>\n",
       "      <td>2025-08-25 02:34:52</td>\n",
       "      <td>2</td>\n",
       "      <td>other</td>\n",
       "    </tr>\n",
       "    <tr>\n",
       "      <th>2</th>\n",
       "      <td>yoursupermindset</td>\n",
       "      <td>https://www.instagram.com/reel/DNdZwu2IhQf/</td>\n",
       "      <td>ð</td>\n",
       "      <td>1756088971</td>\n",
       "      <td>2025-08-25 02:29:31</td>\n",
       "      <td>2</td>\n",
       "      <td>other</td>\n",
       "    </tr>\n",
       "    <tr>\n",
       "      <th>3</th>\n",
       "      <td>boardgame_buzzz</td>\n",
       "      <td>https://www.instagram.com/reel/DNs-Ax84lVg/</td>\n",
       "      <td>ð</td>\n",
       "      <td>1756075247</td>\n",
       "      <td>2025-08-24 22:40:47</td>\n",
       "      <td>22</td>\n",
       "      <td>evening</td>\n",
       "    </tr>\n",
       "    <tr>\n",
       "      <th>4</th>\n",
       "      <td>jessicaevedesu</td>\n",
       "      <td>https://www.instagram.com/reel/DNtSgCC3jrx/</td>\n",
       "      <td>ð</td>\n",
       "      <td>1756075213</td>\n",
       "      <td>2025-08-24 22:40:13</td>\n",
       "      <td>22</td>\n",
       "      <td>evening</td>\n",
       "    </tr>\n",
       "  </tbody>\n",
       "</table>\n",
       "</div>"
      ],
      "text/plain": [
       "              title                                         href account  \\\n",
       "0   lvmandm9onprime  https://www.instagram.com/reel/DNoMzVUI5tW/    ð   \n",
       "1     jenbutlersays  https://www.instagram.com/reel/DNjlAMbxiEu/    ð   \n",
       "2  yoursupermindset  https://www.instagram.com/reel/DNdZwu2IhQf/    ð   \n",
       "3   boardgame_buzzz  https://www.instagram.com/reel/DNs-Ax84lVg/    ð   \n",
       "4    jessicaevedesu  https://www.instagram.com/reel/DNtSgCC3jrx/    ð   \n",
       "\n",
       "    timestamp            datetime  hour time_of_day  \n",
       "0  1756112472 2025-08-25 09:01:12     9     morning  \n",
       "1  1756089292 2025-08-25 02:34:52     2       other  \n",
       "2  1756088971 2025-08-25 02:29:31     2       other  \n",
       "3  1756075247 2025-08-24 22:40:47    22     evening  \n",
       "4  1756075213 2025-08-24 22:40:13    22     evening  "
      ]
     },
     "execution_count": 70,
     "metadata": {},
     "output_type": "execute_result"
    }
   ],
   "source": [
    "liked_posts_df.head()"
   ]
  },
  {
   "cell_type": "code",
   "execution_count": 71,
   "id": "f256bc88-e83e-4761-8320-bd855de5fc94",
   "metadata": {},
   "outputs": [
    {
     "name": "stdout",
     "output_type": "stream",
     "text": [
      "time_of_day\n",
      "other      12516\n",
      "evening     7842\n",
      "morning     3297\n",
      "Name: count, dtype: int64\n"
     ]
    }
   ],
   "source": [
    "likes_by_time = liked_posts_df[\"time_of_day\"].value_counts()\n",
    "print(likes_by_time)"
   ]
  },
  {
   "cell_type": "code",
   "execution_count": 72,
   "id": "8e8ebd6a-4135-469b-ad75-6106d99e5353",
   "metadata": {},
   "outputs": [],
   "source": [
    "import matplotlib.pyplot as plt"
   ]
  },
  {
   "cell_type": "code",
   "execution_count": 73,
   "id": "b8eed06f-c30a-4bab-8aa1-795d2b0d3368",
   "metadata": {},
   "outputs": [
    {
     "data": {
      "image/png": "[encoded data removed]",
      "text/plain": [
       "<Figure size 640x480 with 1 Axes>"
      ]
     },
     "metadata": {},
     "output_type": "display_data"
    }
   ],
   "source": [
    "likes_by_time.plot(kind=\"bar\", title=\"Instagram Likes by Time of Day\")\n",
    "plt.xlabel(\"Time of Day\")\n",
    "plt.ylabel(\"Number of Likes\")\n",
    "plt.show()"
   ]
  },
  {
   "cell_type": "markdown",
   "id": "f37f924a-551c-44f5-869a-73ddea2372a5",
   "metadata": {},
   "source": [
    "So this did prove my hypothises, that I scroll and like posts more in the evening than the morning. But I think this is saying that I do most of my scrolling and liking in the middle (other) part of the day. "
   ]
  },
  {
   "cell_type": "code",
   "execution_count": null,
   "id": "97ee39f6-aea0-4808-af67-19b7a5537cdc",
   "metadata": {},
   "outputs": [],
   "source": []
  }
 ],
 "metadata": {
  "kernelspec": {
   "display_name": "Python 3 (ipykernel)",
   "language": "python",
   "name": "python3"
  },
  "language_info": {
   "codemirror_mode": {
    "name": "ipython",
    "version": 3
   },
   "file_extension": ".py",
   "mimetype": "text/x-python",
   "name": "python",
   "nbconvert_exporter": "python",
   "pygments_lexer": "ipython3",
   "version": "3.12.11"
  }
 },
 "nbformat": 4,
 "nbformat_minor": 5
}
