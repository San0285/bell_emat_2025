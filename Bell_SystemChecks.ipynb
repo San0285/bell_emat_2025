{
 "cells": [
  {
   "cell_type": "markdown",
   "id": "ba2b6708-f18f-4b36-9798-53b22cb08b87",
   "metadata": {},
   "source": [
    "# System Test\n",
    "## Jaclyn Bell\n",
    "### 8/24/2025\n",
    "In this class I would like to learn more about:\n",
    "1. Python\n",
    "2. API's\n",
    "3. Accessing and Analyzing Data\n",
    "- I am a senior EMAT major with a minor in Web Development and Design. </br>  **I am *excited* to take this class!**\n",
    "\n",
    "![puppies](https://wallpaper.dog/large/10770096.jpg)  "
   ]
  },
  {
   "cell_type": "code",
   "execution_count": 6,
   "id": "ee881f51-08d9-4b75-9f96-60b56d6b73e1",
   "metadata": {},
   "outputs": [
    {
     "name": "stdout",
     "output_type": "stream",
     "text": [
      "3\n",
      "Jaclyn\n"
     ]
    }
   ],
   "source": [
    "x = 3\n",
    "y = \"Jaclyn\"\n",
    "\n",
    "print(x)\n",
    "print(y)"
   ]
  },
  {
   "cell_type": "code",
   "execution_count": 7,
   "id": "905d2095-5279-4df7-b9c9-4bbc89569d7e",
   "metadata": {},
   "outputs": [
    {
     "name": "stdout",
     "output_type": "stream",
     "text": [
      "Shelties\n",
      "Corgies\n",
      "Bichons\n"
     ]
    }
   ],
   "source": [
    "puppies = [\"Shelties\", \"Corgies\", \"Bichons\"]\n",
    "for x in puppies:\n",
    "    print(x)"
   ]
  },
  {
   "cell_type": "code",
   "execution_count": 8,
   "id": "ba8272c0-d75e-44e5-a952-d6ea937c79be",
   "metadata": {},
   "outputs": [
    {
     "name": "stdout",
     "output_type": "stream",
     "text": [
      "Today is going to be a good day!\n"
     ]
    }
   ],
   "source": [
    "print(\"Today is going to be a good day!\")"
   ]
  },
  {
   "cell_type": "code",
   "execution_count": 10,
   "id": "9152f58b-2041-46ac-bddc-1d61d0c0da69",
   "metadata": {},
   "outputs": [
    {
     "name": "stdout",
     "output_type": "stream",
     "text": [
      "17\n"
     ]
    }
   ],
   "source": [
    "def add(a, b):\n",
    "    return a + b\n",
    "\n",
    "result= add(4, 13)\n",
    "print(result)"
   ]
  },
  {
   "cell_type": "code",
   "execution_count": null,
   "id": "10ecef31-908c-4ab7-97b3-b115d0a24a39",
   "metadata": {},
   "outputs": [],
   "source": []
  }
 ],
 "metadata": {
  "kernelspec": {
   "display_name": "Python [conda env:base] *",
   "language": "python",
   "name": "conda-base-py"
  },
  "language_info": {
   "codemirror_mode": {
    "name": "ipython",
    "version": 3
   },
   "file_extension": ".py",
   "mimetype": "text/x-python",
   "name": "python",
   "nbconvert_exporter": "python",
   "pygments_lexer": "ipython3",
   "version": "3.13.5"
  }
 },
 "nbformat": 4,
 "nbformat_minor": 5
}
