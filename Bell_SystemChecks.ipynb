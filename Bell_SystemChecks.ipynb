{
 "cells": [
  {
   "cell_type": "markdown",
   "id": "b53422ad-26f4-400c-a80b-4d400d284a8f",
   "metadata": {},
   "source": [
    "# System Test\n",
    "This is just a text.\n",
    "## This is a sub heading\n",
    "### This is a sub sub heading\n",
    "This is a sample list\n",
    "1. one\n",
    "2. two\n",
    "3. three\n",
    "- one\n",
    "- two"
   ]
  },
  {
   "cell_type": "code",
   "execution_count": null,
   "id": "e07fb689-e2f0-47d8-91c5-2793c8c3a662",
   "metadata": {},
   "outputs": [],
   "source": []
  }
 ],
 "metadata": {
  "kernelspec": {
   "display_name": "Python 3 (ipykernel)",
   "language": "python",
   "name": "python3"
  },
  "language_info": {
   "codemirror_mode": {
    "name": "ipython",
    "version": 3
   },
   "file_extension": ".py",
   "mimetype": "text/x-python",
   "name": "python",
   "nbconvert_exporter": "python",
   "pygments_lexer": "ipython3",
   "version": "3.12.11"
  }
 },
 "nbformat": 4,
 "nbformat_minor": 5
}
