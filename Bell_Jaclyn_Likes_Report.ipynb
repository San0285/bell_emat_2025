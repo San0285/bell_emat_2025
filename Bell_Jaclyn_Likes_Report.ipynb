{
 "cells": [
  {
   "cell_type": "markdown",
   "id": "23d2cc3d-7de7-4962-afb0-c68102b4092a",
   "metadata": {},
   "source": [
    "# Likes Report\n",
    "Jaclyn Bell </br>\n",
    "9/21/2025"
   ]
  },
  {
   "cell_type": "markdown",
   "id": "a7b85c5f-02f0-4c48-b19b-1d81fb029066",
   "metadata": {},
   "source": [
    "## Questions:\n",
    "### Who or what is the source of your personal Instagram data? \n",
    "The sources of my personal instagram data comes mainly from liking or sharing posts. Other sources would be the things I have uploaded to the app such as photos, reels, and stories. My data also comes from sending messages or commenting on others posts. </br>\n",
    "### Why was this data created and what purposes can the data serve? \n",
    "I think the data is used for a lot of reasons, for example in advertising, they can use my data to target me with ads that might spark my interset, and keep track of what I click on or buy. Or it could help them train AI algorithims so the app would suggest content to me that would increase my engagement in the app, sometimes keeping me scrolling for way too long. :) </br>\n",
    "### In what ways may this data be reliable? \n",
    "The data that would be reliable would be your login information such as user name and password, or your personal phone number or email, used as sercurity for logging in or recovering your account. It could also be you behavior on the app such as the way you interact with it, through likes, and comments. </br>\n",
    "### In what ways may this data be unreliable?\n",
    "I think a lot of people lie in their personal information, such as names, or birthdays. Or they make burner accounts or accounts to impersonate others. And another thing that I do a lot if scroll mindlessly without actually reacting, even though I might really like what Im seeing, sometimes I just go so fast that I don't take that second to like or save the post. so this could have an effect on my data being collected. "
   ]
  },
  {
   "cell_type": "code",
   "execution_count": 107,
   "id": "942bf382-d808-47d7-afae-563ec260e581",
   "metadata": {},
   "outputs": [],
   "source": [
    "import json as js\n",
    "import pandas as pd\n",
    "\n",
    "from datetime import datetime\n",
    "\n",
    "from scipy.stats import chisquare\n",
    "\n",
    "import matplotlib.pyplot as plt"
   ]
  },
  {
   "cell_type": "markdown",
   "id": "a7bc93af-f167-42fc-9b0b-7ace01bd1946",
   "metadata": {},
   "source": [
    "Opening and loading the json file from the likes folder"
   ]
  },
  {
   "cell_type": "code",
   "execution_count": 108,
   "id": "e41f5061-d7c7-4c39-90f4-f2b006d03b1c",
   "metadata": {},
   "outputs": [],
   "source": [
    "with open(r\"C:\\Users\\jacki\\Data in EMAT\\DATA INSTAGRAM\\your_instagram_activity\\likes\\liked_posts.json\", \"r\", encoding=\"utf-8\") as f:\n",
    "    data = js.load(f)"
   ]
  },
  {
   "cell_type": "code",
   "execution_count": 109,
   "id": "7f1a6477-543d-48b5-8688-1f5ebe00e2fd",
   "metadata": {},
   "outputs": [],
   "source": [
    "df = pd.DataFrame(data['likes_media_likes'])"
   ]
  },
  {
   "cell_type": "code",
   "execution_count": 110,
   "id": "c8a47b90-002b-4cc8-8a5f-9fcead6a5d2f",
   "metadata": {},
   "outputs": [
    {
     "data": {
      "text/html": [
       "<div>\n",
       "<style scoped>\n",
       "    .dataframe tbody tr th:only-of-type {\n",
       "        vertical-align: middle;\n",
       "    }\n",
       "\n",
       "    .dataframe tbody tr th {\n",
       "        vertical-align: top;\n",
       "    }\n",
       "\n",
       "    .dataframe thead th {\n",
       "        text-align: right;\n",
       "    }\n",
       "</style>\n",
       "<table border=\"1\" class=\"dataframe\">\n",
       "  <thead>\n",
       "    <tr style=\"text-align: right;\">\n",
       "      <th></th>\n",
       "      <th>title</th>\n",
       "      <th>string_list_data</th>\n",
       "    </tr>\n",
       "  </thead>\n",
       "  <tbody>\n",
       "    <tr>\n",
       "      <th>0</th>\n",
       "      <td>lvmandm9onprime</td>\n",
       "      <td>[{'href': 'https://www.instagram.com/reel/DNoM...</td>\n",
       "    </tr>\n",
       "    <tr>\n",
       "      <th>1</th>\n",
       "      <td>jenbutlersays</td>\n",
       "      <td>[{'href': 'https://www.instagram.com/reel/DNjl...</td>\n",
       "    </tr>\n",
       "    <tr>\n",
       "      <th>2</th>\n",
       "      <td>yoursupermindset</td>\n",
       "      <td>[{'href': 'https://www.instagram.com/reel/DNdZ...</td>\n",
       "    </tr>\n",
       "    <tr>\n",
       "      <th>3</th>\n",
       "      <td>boardgame_buzzz</td>\n",
       "      <td>[{'href': 'https://www.instagram.com/reel/DNs-...</td>\n",
       "    </tr>\n",
       "    <tr>\n",
       "      <th>4</th>\n",
       "      <td>jessicaevedesu</td>\n",
       "      <td>[{'href': 'https://www.instagram.com/reel/DNtS...</td>\n",
       "    </tr>\n",
       "    <tr>\n",
       "      <th>5</th>\n",
       "      <td>laura.henshaw</td>\n",
       "      <td>[{'href': 'https://www.instagram.com/reel/DK_q...</td>\n",
       "    </tr>\n",
       "    <tr>\n",
       "      <th>6</th>\n",
       "      <td>gangabala19</td>\n",
       "      <td>[{'href': 'https://www.instagram.com/reel/DNYV...</td>\n",
       "    </tr>\n",
       "    <tr>\n",
       "      <th>7</th>\n",
       "      <td>tokyo_thebear</td>\n",
       "      <td>[{'href': 'https://www.instagram.com/reel/DHyk...</td>\n",
       "    </tr>\n",
       "    <tr>\n",
       "      <th>8</th>\n",
       "      <td>zero.sleeps</td>\n",
       "      <td>[{'href': 'https://www.instagram.com/reel/DNtb...</td>\n",
       "    </tr>\n",
       "    <tr>\n",
       "      <th>9</th>\n",
       "      <td>fireandiceoutdoors</td>\n",
       "      <td>[{'href': 'https://www.instagram.com/reel/DNsY...</td>\n",
       "    </tr>\n",
       "  </tbody>\n",
       "</table>\n",
       "</div>"
      ],
      "text/plain": [
       "                title                                   string_list_data\n",
       "0     lvmandm9onprime  [{'href': 'https://www.instagram.com/reel/DNoM...\n",
       "1       jenbutlersays  [{'href': 'https://www.instagram.com/reel/DNjl...\n",
       "2    yoursupermindset  [{'href': 'https://www.instagram.com/reel/DNdZ...\n",
       "3     boardgame_buzzz  [{'href': 'https://www.instagram.com/reel/DNs-...\n",
       "4      jessicaevedesu  [{'href': 'https://www.instagram.com/reel/DNtS...\n",
       "5       laura.henshaw  [{'href': 'https://www.instagram.com/reel/DK_q...\n",
       "6         gangabala19  [{'href': 'https://www.instagram.com/reel/DNYV...\n",
       "7       tokyo_thebear  [{'href': 'https://www.instagram.com/reel/DHyk...\n",
       "8         zero.sleeps  [{'href': 'https://www.instagram.com/reel/DNtb...\n",
       "9  fireandiceoutdoors  [{'href': 'https://www.instagram.com/reel/DNsY..."
      ]
     },
     "execution_count": 110,
     "metadata": {},
     "output_type": "execute_result"
    }
   ],
   "source": [
    "df.head(10)\n"
   ]
  },
  {
   "cell_type": "code",
   "execution_count": 111,
   "id": "a7f0b482-9f59-49fc-8eb6-5ffd88dead00",
   "metadata": {},
   "outputs": [
    {
     "name": "stdout",
     "output_type": "stream",
     "text": [
      "{\n",
      "  \"title\": \"lvmandm9onprime\",\n",
      "  \"string_list_data\": [\n",
      "    {\n",
      "      \"href\": \"https://www.instagram.com/reel/DNoMzVUI5tW/\",\n",
      "      \"value\": \"\\u00f0\\u009f\\u0091\\u008d\",\n",
      "      \"timestamp\": 1756112472\n",
      "    }\n",
      "  ]\n",
      "}\n"
     ]
    }
   ],
   "source": [
    "print(js.dumps(data[\"likes_media_likes\"][0], indent=2))"
   ]
  },
  {
   "cell_type": "code",
   "execution_count": 112,
   "id": "94865ac8-c4ad-40f0-9e0d-bac3526500b6",
   "metadata": {},
   "outputs": [],
   "source": [
    "df[\"timestamp\"] = df[\"string_list_data\"].apply(lambda x: x[0][\"timestamp\"])"
   ]
  },
  {
   "cell_type": "code",
   "execution_count": 113,
   "id": "f07cd093-76f8-4ba1-b60d-2feed50f5733",
   "metadata": {},
   "outputs": [],
   "source": [
    "df[\"timestamp\"] = pd.to_datetime(df[\"timestamp\"], unit=\"s\")"
   ]
  },
  {
   "cell_type": "code",
   "execution_count": 114,
   "id": "eb0d3095-90ff-441a-bf7d-830bf61f6b42",
   "metadata": {},
   "outputs": [
    {
     "data": {
      "text/html": [
       "<div>\n",
       "<style scoped>\n",
       "    .dataframe tbody tr th:only-of-type {\n",
       "        vertical-align: middle;\n",
       "    }\n",
       "\n",
       "    .dataframe tbody tr th {\n",
       "        vertical-align: top;\n",
       "    }\n",
       "\n",
       "    .dataframe thead th {\n",
       "        text-align: right;\n",
       "    }\n",
       "</style>\n",
       "<table border=\"1\" class=\"dataframe\">\n",
       "  <thead>\n",
       "    <tr style=\"text-align: right;\">\n",
       "      <th></th>\n",
       "      <th>title</th>\n",
       "      <th>string_list_data</th>\n",
       "      <th>timestamp</th>\n",
       "    </tr>\n",
       "  </thead>\n",
       "  <tbody>\n",
       "    <tr>\n",
       "      <th>0</th>\n",
       "      <td>lvmandm9onprime</td>\n",
       "      <td>[{'href': 'https://www.instagram.com/reel/DNoM...</td>\n",
       "      <td>2025-08-25 09:01:12</td>\n",
       "    </tr>\n",
       "    <tr>\n",
       "      <th>1</th>\n",
       "      <td>jenbutlersays</td>\n",
       "      <td>[{'href': 'https://www.instagram.com/reel/DNjl...</td>\n",
       "      <td>2025-08-25 02:34:52</td>\n",
       "    </tr>\n",
       "    <tr>\n",
       "      <th>2</th>\n",
       "      <td>yoursupermindset</td>\n",
       "      <td>[{'href': 'https://www.instagram.com/reel/DNdZ...</td>\n",
       "      <td>2025-08-25 02:29:31</td>\n",
       "    </tr>\n",
       "    <tr>\n",
       "      <th>3</th>\n",
       "      <td>boardgame_buzzz</td>\n",
       "      <td>[{'href': 'https://www.instagram.com/reel/DNs-...</td>\n",
       "      <td>2025-08-24 22:40:47</td>\n",
       "    </tr>\n",
       "    <tr>\n",
       "      <th>4</th>\n",
       "      <td>jessicaevedesu</td>\n",
       "      <td>[{'href': 'https://www.instagram.com/reel/DNtS...</td>\n",
       "      <td>2025-08-24 22:40:13</td>\n",
       "    </tr>\n",
       "    <tr>\n",
       "      <th>5</th>\n",
       "      <td>laura.henshaw</td>\n",
       "      <td>[{'href': 'https://www.instagram.com/reel/DK_q...</td>\n",
       "      <td>2025-08-24 22:38:42</td>\n",
       "    </tr>\n",
       "    <tr>\n",
       "      <th>6</th>\n",
       "      <td>gangabala19</td>\n",
       "      <td>[{'href': 'https://www.instagram.com/reel/DNYV...</td>\n",
       "      <td>2025-08-24 15:10:22</td>\n",
       "    </tr>\n",
       "    <tr>\n",
       "      <th>7</th>\n",
       "      <td>tokyo_thebear</td>\n",
       "      <td>[{'href': 'https://www.instagram.com/reel/DHyk...</td>\n",
       "      <td>2025-08-24 15:09:34</td>\n",
       "    </tr>\n",
       "    <tr>\n",
       "      <th>8</th>\n",
       "      <td>zero.sleeps</td>\n",
       "      <td>[{'href': 'https://www.instagram.com/reel/DNtb...</td>\n",
       "      <td>2025-08-24 15:07:27</td>\n",
       "    </tr>\n",
       "    <tr>\n",
       "      <th>9</th>\n",
       "      <td>fireandiceoutdoors</td>\n",
       "      <td>[{'href': 'https://www.instagram.com/reel/DNsY...</td>\n",
       "      <td>2025-08-24 15:06:41</td>\n",
       "    </tr>\n",
       "  </tbody>\n",
       "</table>\n",
       "</div>"
      ],
      "text/plain": [
       "                title                                   string_list_data  \\\n",
       "0     lvmandm9onprime  [{'href': 'https://www.instagram.com/reel/DNoM...   \n",
       "1       jenbutlersays  [{'href': 'https://www.instagram.com/reel/DNjl...   \n",
       "2    yoursupermindset  [{'href': 'https://www.instagram.com/reel/DNdZ...   \n",
       "3     boardgame_buzzz  [{'href': 'https://www.instagram.com/reel/DNs-...   \n",
       "4      jessicaevedesu  [{'href': 'https://www.instagram.com/reel/DNtS...   \n",
       "5       laura.henshaw  [{'href': 'https://www.instagram.com/reel/DK_q...   \n",
       "6         gangabala19  [{'href': 'https://www.instagram.com/reel/DNYV...   \n",
       "7       tokyo_thebear  [{'href': 'https://www.instagram.com/reel/DHyk...   \n",
       "8         zero.sleeps  [{'href': 'https://www.instagram.com/reel/DNtb...   \n",
       "9  fireandiceoutdoors  [{'href': 'https://www.instagram.com/reel/DNsY...   \n",
       "\n",
       "            timestamp  \n",
       "0 2025-08-25 09:01:12  \n",
       "1 2025-08-25 02:34:52  \n",
       "2 2025-08-25 02:29:31  \n",
       "3 2025-08-24 22:40:47  \n",
       "4 2025-08-24 22:40:13  \n",
       "5 2025-08-24 22:38:42  \n",
       "6 2025-08-24 15:10:22  \n",
       "7 2025-08-24 15:09:34  \n",
       "8 2025-08-24 15:07:27  \n",
       "9 2025-08-24 15:06:41  "
      ]
     },
     "execution_count": 114,
     "metadata": {},
     "output_type": "execute_result"
    }
   ],
   "source": [
    "df.head(10)"
   ]
  },
  {
   "cell_type": "markdown",
   "id": "f210facf-30a6-4cc2-8c5b-9f7511357b8a",
   "metadata": {},
   "source": [
    "Summerize the number of likes by account"
   ]
  },
  {
   "cell_type": "code",
   "execution_count": 115,
   "id": "2bca1fe5-3c44-4a4a-8625-63c32d59b7aa",
   "metadata": {},
   "outputs": [
    {
     "data": {
      "text/html": [
       "<div>\n",
       "<style scoped>\n",
       "    .dataframe tbody tr th:only-of-type {\n",
       "        vertical-align: middle;\n",
       "    }\n",
       "\n",
       "    .dataframe tbody tr th {\n",
       "        vertical-align: top;\n",
       "    }\n",
       "\n",
       "    .dataframe thead th {\n",
       "        text-align: right;\n",
       "    }\n",
       "</style>\n",
       "<table border=\"1\" class=\"dataframe\">\n",
       "  <thead>\n",
       "    <tr style=\"text-align: right;\">\n",
       "      <th></th>\n",
       "      <th>like_count</th>\n",
       "    </tr>\n",
       "    <tr>\n",
       "      <th>title</th>\n",
       "      <th></th>\n",
       "    </tr>\n",
       "  </thead>\n",
       "  <tbody>\n",
       "    <tr>\n",
       "      <th>planet.go</th>\n",
       "      <td>279</td>\n",
       "    </tr>\n",
       "    <tr>\n",
       "      <th>lisa437</th>\n",
       "      <td>267</td>\n",
       "    </tr>\n",
       "    <tr>\n",
       "      <th>thevickieway</th>\n",
       "      <td>250</td>\n",
       "    </tr>\n",
       "    <tr>\n",
       "      <th>usinterior</th>\n",
       "      <td>247</td>\n",
       "    </tr>\n",
       "    <tr>\n",
       "      <th>pioneertrailstreefarm</th>\n",
       "      <td>214</td>\n",
       "    </tr>\n",
       "    <tr>\n",
       "      <th>mparsons86</th>\n",
       "      <td>209</td>\n",
       "    </tr>\n",
       "    <tr>\n",
       "      <th>hannahsunshine11</th>\n",
       "      <td>203</td>\n",
       "    </tr>\n",
       "    <tr>\n",
       "      <th>shantelebell</th>\n",
       "      <td>190</td>\n",
       "    </tr>\n",
       "    <tr>\n",
       "      <th>anastasia_volkova</th>\n",
       "      <td>190</td>\n",
       "    </tr>\n",
       "    <tr>\n",
       "      <th>instagram</th>\n",
       "      <td>188</td>\n",
       "    </tr>\n",
       "  </tbody>\n",
       "</table>\n",
       "</div>"
      ],
      "text/plain": [
       "                       like_count\n",
       "title                            \n",
       "planet.go                     279\n",
       "lisa437                       267\n",
       "thevickieway                  250\n",
       "usinterior                    247\n",
       "pioneertrailstreefarm         214\n",
       "mparsons86                    209\n",
       "hannahsunshine11              203\n",
       "shantelebell                  190\n",
       "anastasia_volkova             190\n",
       "instagram                     188"
      ]
     },
     "execution_count": 115,
     "metadata": {},
     "output_type": "execute_result"
    }
   ],
   "source": [
    "likes_summary = df.groupby(\"title\").count()[[\"timestamp\"]]\n",
    "likes_summary = likes_summary.rename(columns={\"timestamp\": \"like_count\"})\n",
    "likes_summary.sort_values(\"like_count\", ascending=False, inplace=True)\n",
    "\n",
    "likes_summary.head(10)"
   ]
  },
  {
   "cell_type": "markdown",
   "id": "4c0a1977-179b-4581-9891-1c69a92551a1",
   "metadata": {},
   "source": [
    "### Hypothesis\n",
    "\n",
    "My hypotheses is that I scroll through Instagram and like posts more in the evening than during the rest of the day.\n",
    "\n",
    "### Theoretical Elements\n",
    "\n",
    "I made this hypothesis based off of my personal media usage being influenced by my daily routine. I commute to and from school, and work full time. So I tend to have more leisure time in the evening (after work and school). This downtime provides more oppertunity to scroll through social media, making evening activity higher. \n",
    "\n",
    "### Statistical Elements\n",
    "\n",
    "To test this hypothesis, I would:\n",
    "- Use time based data, to see my activity in the morning versus in the evening.\n",
    "- Apply descriptive statistics to see how many I like during different parts of the day.\n",
    "- Or run a chi-square test to illustrate my usage in a graph, to get a better view of the of my usage across time periods."
   ]
  },
  {
   "cell_type": "markdown",
   "id": "91b42e70-6ef1-4304-afcd-955956f73151",
   "metadata": {},
   "source": [
    "### Data Sources\n",
    "To help test my hypothesis, I will use the file \"viewed_stories.json\"\n",
    "\n",
    "This file should contain a log of my Instagram stories I've viewed, and include the timestamp of when I viewed them. This will help me test my hypothesis because it will show me the times of day I am most active in the, morning, afternoon, or evening. "
   ]
  },
  {
   "cell_type": "markdown",
   "id": "5c78d782-c421-4542-b3d3-74c9387f8cd6",
   "metadata": {},
   "source": [
    "Opening my viewed_stories.json file"
   ]
  },
  {
   "cell_type": "code",
   "execution_count": 116,
   "id": "d342bda2-90fa-46be-ae14-931fa6417cba",
   "metadata": {},
   "outputs": [],
   "source": [
    "with open(r\"C:\\Users\\jacki\\Data in EMAT\\DATA INSTAGRAM\\your_instagram_activity\\media\\stories.json\", \"r\", encoding=\"utf-8\") as f :\n",
    "    stories_data = js.load(f)"
   ]
  },
  {
   "cell_type": "code",
   "execution_count": 117,
   "id": "766e1aae-b0da-4e29-badc-2118ce422db8",
   "metadata": {},
   "outputs": [],
   "source": [
    "stories_df = pd.DataFrame(stories_data[\"ig_stories\"])"
   ]
  },
  {
   "cell_type": "code",
   "execution_count": 118,
   "id": "5863c169-4afd-46ed-9e6a-02c8d06c8e1c",
   "metadata": {},
   "outputs": [
    {
     "data": {
      "text/plain": [
       "Index(['uri', 'creation_timestamp', 'media_metadata', 'title',\n",
       "       'cross_post_source', 'dubbing_info', 'media_variants'],\n",
       "      dtype='object')"
      ]
     },
     "execution_count": 118,
     "metadata": {},
     "output_type": "execute_result"
    }
   ],
   "source": [
    "stories_df.columns"
   ]
  },
  {
   "cell_type": "code",
   "execution_count": 119,
   "id": "7937b482-89a8-4b80-9a7f-73c472a9eb25",
   "metadata": {},
   "outputs": [
    {
     "data": {
      "text/html": [
       "<div>\n",
       "<style scoped>\n",
       "    .dataframe tbody tr th:only-of-type {\n",
       "        vertical-align: middle;\n",
       "    }\n",
       "\n",
       "    .dataframe tbody tr th {\n",
       "        vertical-align: top;\n",
       "    }\n",
       "\n",
       "    .dataframe thead th {\n",
       "        text-align: right;\n",
       "    }\n",
       "</style>\n",
       "<table border=\"1\" class=\"dataframe\">\n",
       "  <thead>\n",
       "    <tr style=\"text-align: right;\">\n",
       "      <th></th>\n",
       "      <th>uri</th>\n",
       "      <th>creation_timestamp</th>\n",
       "      <th>media_metadata</th>\n",
       "      <th>title</th>\n",
       "      <th>cross_post_source</th>\n",
       "      <th>dubbing_info</th>\n",
       "      <th>media_variants</th>\n",
       "    </tr>\n",
       "  </thead>\n",
       "  <tbody>\n",
       "    <tr>\n",
       "      <th>0</th>\n",
       "      <td>media/stories/202312/411179057_745800350741657...</td>\n",
       "      <td>1702749688</td>\n",
       "      <td>{'photo_metadata': {'exif_data': [{'iso': 250,...</td>\n",
       "      <td></td>\n",
       "      <td>{'source_app': 'FB'}</td>\n",
       "      <td>NaN</td>\n",
       "      <td>NaN</td>\n",
       "    </tr>\n",
       "    <tr>\n",
       "      <th>1</th>\n",
       "      <td>media/stories/202311/399424131_709633747387112...</td>\n",
       "      <td>1699409802</td>\n",
       "      <td>{'photo_metadata': {'exif_data': [{'iso': 320,...</td>\n",
       "      <td>It was a hit!  Definitely will be making it ag...</td>\n",
       "      <td>{'source_app': 'FB'}</td>\n",
       "      <td>NaN</td>\n",
       "      <td>NaN</td>\n",
       "    </tr>\n",
       "    <tr>\n",
       "      <th>2</th>\n",
       "      <td>media/stories/202311/399571512_737091614927345...</td>\n",
       "      <td>1699380469</td>\n",
       "      <td>{'photo_metadata': {'exif_data': [{'iso': 320,...</td>\n",
       "      <td></td>\n",
       "      <td>{'source_app': 'FB'}</td>\n",
       "      <td>NaN</td>\n",
       "      <td>NaN</td>\n",
       "    </tr>\n",
       "    <tr>\n",
       "      <th>3</th>\n",
       "      <td>media/stories/202311/399869464_104619336650599...</td>\n",
       "      <td>1699380412</td>\n",
       "      <td>{'photo_metadata': {'exif_data': [{'iso': 640,...</td>\n",
       "      <td>Salted Maple Pie ð¥§  @sisterpiedetroit</td>\n",
       "      <td>{'source_app': 'FB'}</td>\n",
       "      <td>NaN</td>\n",
       "      <td>NaN</td>\n",
       "    </tr>\n",
       "    <tr>\n",
       "      <th>4</th>\n",
       "      <td>media/stories/202310/AQPPyn93bZ2JwfS04olaUHu89...</td>\n",
       "      <td>1697850741</td>\n",
       "      <td>{'video_metadata': {'exif_data': [{'iso': 125,...</td>\n",
       "      <td></td>\n",
       "      <td>{'source_app': 'FB'}</td>\n",
       "      <td>[]</td>\n",
       "      <td>[]</td>\n",
       "    </tr>\n",
       "    <tr>\n",
       "      <th>5</th>\n",
       "      <td>media/stories/202310/AQMSa9I0uOqdBNzHvZ9Br9Pal...</td>\n",
       "      <td>1697801349</td>\n",
       "      <td>{'video_metadata': {'exif_data': [{'iso': 100,...</td>\n",
       "      <td>Fun at work</td>\n",
       "      <td>{'source_app': 'FB'}</td>\n",
       "      <td>[]</td>\n",
       "      <td>[]</td>\n",
       "    </tr>\n",
       "    <tr>\n",
       "      <th>6</th>\n",
       "      <td>media/stories/202310/AQMQhBTID_kZ5b4menP3yRpkn...</td>\n",
       "      <td>1697663080</td>\n",
       "      <td>{'video_metadata': {'exif_data': [{'device_id'...</td>\n",
       "      <td></td>\n",
       "      <td>{'source_app': 'FB'}</td>\n",
       "      <td>[]</td>\n",
       "      <td>[]</td>\n",
       "    </tr>\n",
       "    <tr>\n",
       "      <th>7</th>\n",
       "      <td>media/stories/202310/AQP_NBYLBafe1bfuVjjbKu3mB...</td>\n",
       "      <td>1697663070</td>\n",
       "      <td>{'video_metadata': {'exif_data': [{'device_id'...</td>\n",
       "      <td></td>\n",
       "      <td>{'source_app': 'FB'}</td>\n",
       "      <td>[]</td>\n",
       "      <td>[]</td>\n",
       "    </tr>\n",
       "    <tr>\n",
       "      <th>8</th>\n",
       "      <td>media/stories/202310/392940440_884185145948841...</td>\n",
       "      <td>1697663063</td>\n",
       "      <td>{'photo_metadata': {'exif_data': [{'device_id'...</td>\n",
       "      <td></td>\n",
       "      <td>{'source_app': 'FB'}</td>\n",
       "      <td>NaN</td>\n",
       "      <td>NaN</td>\n",
       "    </tr>\n",
       "    <tr>\n",
       "      <th>9</th>\n",
       "      <td>media/stories/202310/391507951_102499026883225...</td>\n",
       "      <td>1697569303</td>\n",
       "      <td>{'photo_metadata': {'exif_data': [{'iso': 500,...</td>\n",
       "      <td>Homemade dog treats to decorate the cakeâ¦Iâ...</td>\n",
       "      <td>{'source_app': 'FB'}</td>\n",
       "      <td>NaN</td>\n",
       "      <td>NaN</td>\n",
       "    </tr>\n",
       "  </tbody>\n",
       "</table>\n",
       "</div>"
      ],
      "text/plain": [
       "                                                 uri  creation_timestamp  \\\n",
       "0  media/stories/202312/411179057_745800350741657...          1702749688   \n",
       "1  media/stories/202311/399424131_709633747387112...          1699409802   \n",
       "2  media/stories/202311/399571512_737091614927345...          1699380469   \n",
       "3  media/stories/202311/399869464_104619336650599...          1699380412   \n",
       "4  media/stories/202310/AQPPyn93bZ2JwfS04olaUHu89...          1697850741   \n",
       "5  media/stories/202310/AQMSa9I0uOqdBNzHvZ9Br9Pal...          1697801349   \n",
       "6  media/stories/202310/AQMQhBTID_kZ5b4menP3yRpkn...          1697663080   \n",
       "7  media/stories/202310/AQP_NBYLBafe1bfuVjjbKu3mB...          1697663070   \n",
       "8  media/stories/202310/392940440_884185145948841...          1697663063   \n",
       "9  media/stories/202310/391507951_102499026883225...          1697569303   \n",
       "\n",
       "                                      media_metadata  \\\n",
       "0  {'photo_metadata': {'exif_data': [{'iso': 250,...   \n",
       "1  {'photo_metadata': {'exif_data': [{'iso': 320,...   \n",
       "2  {'photo_metadata': {'exif_data': [{'iso': 320,...   \n",
       "3  {'photo_metadata': {'exif_data': [{'iso': 640,...   \n",
       "4  {'video_metadata': {'exif_data': [{'iso': 125,...   \n",
       "5  {'video_metadata': {'exif_data': [{'iso': 100,...   \n",
       "6  {'video_metadata': {'exif_data': [{'device_id'...   \n",
       "7  {'video_metadata': {'exif_data': [{'device_id'...   \n",
       "8  {'photo_metadata': {'exif_data': [{'device_id'...   \n",
       "9  {'photo_metadata': {'exif_data': [{'iso': 500,...   \n",
       "\n",
       "                                               title     cross_post_source  \\\n",
       "0                                                     {'source_app': 'FB'}   \n",
       "1  It was a hit!  Definitely will be making it ag...  {'source_app': 'FB'}   \n",
       "2                                                     {'source_app': 'FB'}   \n",
       "3           Salted Maple Pie ð¥§  @sisterpiedetroit  {'source_app': 'FB'}   \n",
       "4                                                     {'source_app': 'FB'}   \n",
       "5                                        Fun at work  {'source_app': 'FB'}   \n",
       "6                                                     {'source_app': 'FB'}   \n",
       "7                                                     {'source_app': 'FB'}   \n",
       "8                                                     {'source_app': 'FB'}   \n",
       "9  Homemade dog treats to decorate the cakeâ¦Iâ...  {'source_app': 'FB'}   \n",
       "\n",
       "  dubbing_info media_variants  \n",
       "0          NaN            NaN  \n",
       "1          NaN            NaN  \n",
       "2          NaN            NaN  \n",
       "3          NaN            NaN  \n",
       "4           []             []  \n",
       "5           []             []  \n",
       "6           []             []  \n",
       "7           []             []  \n",
       "8          NaN            NaN  \n",
       "9          NaN            NaN  "
      ]
     },
     "execution_count": 119,
     "metadata": {},
     "output_type": "execute_result"
    }
   ],
   "source": [
    "stories_df.head(10)"
   ]
  },
  {
   "cell_type": "code",
   "execution_count": 120,
   "id": "b314e752-f8b2-40ed-b8f8-1ae5a17f587e",
   "metadata": {},
   "outputs": [
    {
     "name": "stdout",
     "output_type": "stream",
     "text": [
      "Index(['uri', 'creation_timestamp', 'media_metadata', 'title',\n",
      "       'cross_post_source', 'dubbing_info', 'media_variants'],\n",
      "      dtype='object')\n"
     ]
    }
   ],
   "source": [
    "print(stories_df.columns)"
   ]
  },
  {
   "cell_type": "code",
   "execution_count": 121,
   "id": "5613dd6e-dc34-401c-8af6-a8532fc4620a",
   "metadata": {},
   "outputs": [
    {
     "name": "stdout",
     "output_type": "stream",
     "text": [
      "{\n",
      "  \"ig_stories\": [\n",
      "    {\n",
      "      \"uri\": \"media/stories/202312/411179057_745800350741657_5284422167280292256_n_17922182282740002.jpg\",\n",
      "      \"creation_timestamp\": 1702749688,\n",
      "      \"media_metadata\": {\n",
      "        \"photo_metadata\": {\n",
      "          \"exif_data\": [\n",
      "            {\n",
      "              \"iso\": 250,\n",
      "              \"focal_length\": \"2.65\",\n",
      "              \"lens_model\": \"iPhone 6s front camera 2.65mm f/2.2\",\n",
      "              \"scene_capture_type\": \"standard\",\n",
      "              \"software\": \"Instagram\",\n",
      "              \"device_id\": \"D234DC7C-3DEF-4DED-B040-D844B02BED73\",\n",
      "              \"scene_type\": 1,\n",
      "              \"camera_position\": \"front\",\n",
      "              \"lens_make\": \"Apple\",\n",
      "              \"source_type\": \"library\",\n",
      "              \"aperture\": \"2.2750071245369052\",\n",
      "              \"shutter_speed\": \"4.9069045771916215\",\n",
      "              \"metering_mode\": \"5\"\n",
      "            }\n",
      "          ]\n",
      "        },\n",
      "        \"camera_metadata\": {\n",
      "          \"has_camera_metadata\": true\n",
      "        }\n",
      "      },\n",
      "      \"title\": \"\",\n",
      "      \"cross_post_sour\n"
     ]
    }
   ],
   "source": [
    "print(js.dumps(stories_data, indent=2)[:1000])"
   ]
  },
  {
   "cell_type": "code",
   "execution_count": 122,
   "id": "c0fc838e-9fa8-4758-85a7-bfedca62fc13",
   "metadata": {},
   "outputs": [
    {
     "name": "stdout",
     "output_type": "stream",
     "text": [
      "['title', 'string_list_data', 'timestamp']\n"
     ]
    }
   ],
   "source": [
    "print(df.columns.tolist())\n"
   ]
  },
  {
   "cell_type": "code",
   "execution_count": 123,
   "id": "928934af-b815-43ce-99f4-ae283bb82562",
   "metadata": {},
   "outputs": [],
   "source": [
    "df.columns = df.columns.str.strip()\n"
   ]
  },
  {
   "cell_type": "code",
   "execution_count": 124,
   "id": "939665be-729c-4e8d-8cf6-478ec9acfa9f",
   "metadata": {},
   "outputs": [],
   "source": [
    "df[\"creation_datetime\"] = pd.to_datetime(df[\"timestamp\"], unit=\"s\")\n"
   ]
  },
  {
   "cell_type": "code",
   "execution_count": 125,
   "id": "3eb6340d-bbec-4fb8-b045-0c62dd96d497",
   "metadata": {},
   "outputs": [],
   "source": [
    "df[\"hour\"] = df[\"creation_datetime\"].dt.hour\n"
   ]
  },
  {
   "cell_type": "code",
   "execution_count": 126,
   "id": "5a070263-777d-4c79-b4e2-0ce344ff41bb",
   "metadata": {},
   "outputs": [],
   "source": [
    "def categorize_time(hour):\n",
    "    if 5 <= hour <= 11:\n",
    "        return \"Morning\"\n",
    "    elif 12 <= hour <= 17:\n",
    "        return \"Afternoon\"\n",
    "    elif 18 <= hour <= 23:\n",
    "        return \"Evening\"\n",
    "    elif 0 <= hour <= 4:      # optional: merge into Evening\n",
    "        return \"Evening\"\n",
    "    else:\n",
    "        return None           # or NaN, so you can filter it out\n",
    "\n",
    "df[\"time_of_day\"] = df[\"hour\"].apply(categorize_time)"
   ]
  },
  {
   "cell_type": "code",
   "execution_count": 127,
   "id": "e7b92a91-4e1c-413e-a8a4-51bd206ddd79",
   "metadata": {},
   "outputs": [
    {
     "name": "stdout",
     "output_type": "stream",
     "text": [
      "  time_of_day  count\n",
      "0     Evening  14387\n",
      "1   Afternoon   5441\n",
      "2     Morning   3827\n"
     ]
    }
   ],
   "source": [
    "usage_summary = df[\"time_of_day\"].value_counts().reset_index()\n",
    "\n",
    "usage_summary.columns = [\"time_of_day\", \"count\"]\n",
    "\n",
    "print(usage_summary)"
   ]
  },
  {
   "cell_type": "code",
   "execution_count": 128,
   "id": "0052975f-bb4f-4d2a-93c3-d71f24f4193a",
   "metadata": {},
   "outputs": [
    {
     "data": {
      "image/png": "[encoded data removed]",
      "text/plain": [
       "<Figure size 640x480 with 1 Axes>"
      ]
     },
     "metadata": {},
     "output_type": "display_data"
    }
   ],
   "source": [
    "import matplotlib.pyplot as plt\n",
    "\n",
    "plt.bar(usage_summary[\"time_of_day\"], usage_summary[\"count\"])\n",
    "plt.title(\"Instagram Usage by Time of Day\")\n",
    "plt.xlabel(\"Time of Day\")\n",
    "plt.ylabel(\"Number of Posts\")\n",
    "plt.show()"
   ]
  },
  {
   "cell_type": "markdown",
   "id": "a9752cc1-1be2-4b71-93bd-cee6b1297d22",
   "metadata": {},
   "source": [
    "Here this shows a percentage of my total useage for each time of day. "
   ]
  },
  {
   "cell_type": "code",
   "execution_count": 129,
   "id": "b3714bbb-e954-4adb-817d-c7658639a314",
   "metadata": {},
   "outputs": [
    {
     "name": "stdout",
     "output_type": "stream",
     "text": [
      "  time_of_day  count  percentage\n",
      "0     Evening  14387   60.820123\n",
      "1   Afternoon   5441   23.001480\n",
      "2     Morning   3827   16.178398\n"
     ]
    }
   ],
   "source": [
    "total = usage_summary[\"count\"].sum()\n",
    "\n",
    "# The bar char was a good representation of my usage, but I wanted to see a percentage as well, so I am adding a percentage column\n",
    "usage_summary[\"percentage\"] = (usage_summary[\"count\"] / total) * 100\n",
    "\n",
    "print(usage_summary)\n"
   ]
  },
  {
   "cell_type": "markdown",
   "id": "195bce1f-afa2-4e4d-925e-111b74046107",
   "metadata": {},
   "source": [
    "Accourding to this data, I would say that my hypotheisis was correct, as 60% of my instagram usage is in the evening. "
   ]
  },
  {
   "cell_type": "markdown",
   "id": "b4f7f4b0-e2eb-4356-910f-c9217b43dd06",
   "metadata": {},
   "source": [
    "Here is another chart showing the same data but with percentages of my usage to give a better visualization. "
   ]
  },
  {
   "cell_type": "code",
   "execution_count": 130,
   "id": "cfbfeada-bfcc-4525-82b6-739b6702c2bc",
   "metadata": {},
   "outputs": [
    {
     "data": {
      "image/png": "[encoded data removed]",
      "text/plain": [
       "<Figure size 640x480 with 1 Axes>"
      ]
     },
     "metadata": {},
     "output_type": "display_data"
    }
   ],
   "source": [
    "plt.bar(usage_summary[\"time_of_day\"], usage_summary[\"percentage\"])\n",
    "plt.title(\"Instagram Usage by Time of Day (%)\")\n",
    "plt.xlabel(\"Time of Day\")\n",
    "plt.ylabel(\"Percentage of Posts\")\n",
    "\n",
    "# Show values on top of bars\n",
    "for i, val in enumerate(usage_summary[\"percentage\"]):\n",
    "    plt.text(i, val + 0.5, f\"{val:.1f}%\", ha=\"center\")\n",
    "\n",
    "plt.show()"
   ]
  },
  {
   "cell_type": "markdown",
   "id": "ca05bf18-cb91-4b9e-a3cb-359bd22c94df",
   "metadata": {},
   "source": [
    "### What does this Data Represent\n",
    "This data is showing three things: </br>\n",
    "-it is grouping my interactions by time of day, evening, afternoon, and morning. </br>\n",
    "-it is showing the raw total of interactions on likes or posts. </br>\n",
    "-it shows that total as a percentage."
   ]
  },
  {
   "cell_type": "markdown",
   "id": "4a1bcf4c-bd8a-4993-8822-8c2c86484d51",
   "metadata": {},
   "source": [
    "### Does this meet Tidy Principles?\n",
    "I would say it does meet tidy principles. Each variable has its own column, Time of Day, Count, and Percentage. And each observation (time of day) has its own row. Making a nice tidy summary table of my instagram usage. "
   ]
  },
  {
   "cell_type": "markdown",
   "id": "8568cf15-fe8a-43bf-9f83-135e106141fe",
   "metadata": {},
   "source": [
    "### Can This Data Test Your Hypothesis?\n",
    "Yes, I would say it did test my hypothesis: \"I scroll through Instagram and like posts more in the evening than during the rest of the day.\" </br>\n",
    "-The data shows evening having the highest count compared to afternoon and morning. </br>\n",
    "-Proving I do engage more with Instagram in the evening. </br>\n",
    "-I also have quantitative evidence: about 61% of my usage is in the evening, and about 39% is shared between the rest of the day. "
   ]
  },
  {
   "cell_type": "code",
   "execution_count": null,
   "id": "fc350077-ea35-42fb-a849-7da6aca11d7a",
   "metadata": {},
   "outputs": [],
   "source": []
  }
 ],
 "metadata": {
  "kernelspec": {
   "display_name": "Python 3 (ipykernel)",
   "language": "python",
   "name": "python3"
  },
  "language_info": {
   "codemirror_mode": {
    "name": "ipython",
    "version": 3
   },
   "file_extension": ".py",
   "mimetype": "text/x-python",
   "name": "python",
   "nbconvert_exporter": "python",
   "pygments_lexer": "ipython3",
   "version": "3.12.11"
  }
 },
 "nbformat": 4,
 "nbformat_minor": 5
}
